{
 "cells": [
  {
   "cell_type": "markdown",
   "metadata": {},
   "source": [
    "# Titanic Data Analysis\n",
    "## 1. Introduction\n",
    "\n",
    "In this project I will perform a data analysis on the sample Titanic dataset. The dataset contains\n",
    "demographics and passenger information of 891 out of the 2224 passengers and crew members on board the Titanic.\n",
    "The data was obtained at https://www.kaggle.com/c/titanic/data.\n",
    "\n",
    "In my analysis I will examine the factors what may have increased the chances of survival. I will particularly focus on the following questions:\n",
    "\n",
    "* Did the gender determine the chances of survival?\n",
    "* Did the social-economic status determine the chances of survival?\n",
    "* Did the age considering the gender determine the chances of survival?\n",
    "* Did age, regardless of gender, determine your chances of survival?\n",
    "* Did the number of children aboard per passenger determine the chances of survival?\n",
    "\n",
    "## 2. Data Wrangling\n",
    "\n",
    "### 2.1 Data Discription\n",
    "\n",
    "The data contains following information:\n",
    "\n",
    "* `survival`: Survival (0 = No; 1 = Yes)\n",
    "* `pclass`: Passenger Class (1 = 1st; 2 = 2nd; 3 = 3rd)\n",
    "* `name`: Name\n",
    "* `sex`: Gender\n",
    "* `age`: Age\n",
    "* `sibsp`: Number of Siblings/Spouses Aboard\n",
    "* `parch`: Number of Parents/Children Aboard\n",
    "* `ticket`: Ticket Number\n",
    "* `fare`: Passenger Fare\n",
    "* `cabin`: Cabin\n",
    "* `embarked`: Port of Embarkation (C = Cherbourg; Q = Queenstown; S = Southampton)\n",
    "\n",
    "\n",
    "\n",
    "\n",
    "Here are the first five rows of the dataframe to give an simple overview over the data."
   ]
  },
  {
   "cell_type": "code",
   "execution_count": 8,
   "metadata": {
    "collapsed": false
   },
   "outputs": [
    {
     "data": {
      "text/html": [
       "<div>\n",
       "<table border=\"1\" class=\"dataframe\">\n",
       "  <thead>\n",
       "    <tr style=\"text-align: right;\">\n",
       "      <th></th>\n",
       "      <th>PassengerId</th>\n",
       "      <th>Survived</th>\n",
       "      <th>Pclass</th>\n",
       "      <th>Name</th>\n",
       "      <th>Sex</th>\n",
       "      <th>Age</th>\n",
       "      <th>SibSp</th>\n",
       "      <th>Parch</th>\n",
       "      <th>Ticket</th>\n",
       "      <th>Fare</th>\n",
       "      <th>Cabin</th>\n",
       "      <th>Embarked</th>\n",
       "    </tr>\n",
       "  </thead>\n",
       "  <tbody>\n",
       "    <tr>\n",
       "      <th>0</th>\n",
       "      <td>1</td>\n",
       "      <td>0</td>\n",
       "      <td>3</td>\n",
       "      <td>Braund, Mr. Owen Harris</td>\n",
       "      <td>male</td>\n",
       "      <td>22.0</td>\n",
       "      <td>1</td>\n",
       "      <td>0</td>\n",
       "      <td>A/5 21171</td>\n",
       "      <td>7.2500</td>\n",
       "      <td>NaN</td>\n",
       "      <td>S</td>\n",
       "    </tr>\n",
       "    <tr>\n",
       "      <th>1</th>\n",
       "      <td>2</td>\n",
       "      <td>1</td>\n",
       "      <td>1</td>\n",
       "      <td>Cumings, Mrs. John Bradley (Florence Briggs Th...</td>\n",
       "      <td>female</td>\n",
       "      <td>38.0</td>\n",
       "      <td>1</td>\n",
       "      <td>0</td>\n",
       "      <td>PC 17599</td>\n",
       "      <td>71.2833</td>\n",
       "      <td>C85</td>\n",
       "      <td>C</td>\n",
       "    </tr>\n",
       "    <tr>\n",
       "      <th>2</th>\n",
       "      <td>3</td>\n",
       "      <td>1</td>\n",
       "      <td>3</td>\n",
       "      <td>Heikkinen, Miss. Laina</td>\n",
       "      <td>female</td>\n",
       "      <td>26.0</td>\n",
       "      <td>0</td>\n",
       "      <td>0</td>\n",
       "      <td>STON/O2. 3101282</td>\n",
       "      <td>7.9250</td>\n",
       "      <td>NaN</td>\n",
       "      <td>S</td>\n",
       "    </tr>\n",
       "    <tr>\n",
       "      <th>3</th>\n",
       "      <td>4</td>\n",
       "      <td>1</td>\n",
       "      <td>1</td>\n",
       "      <td>Futrelle, Mrs. Jacques Heath (Lily May Peel)</td>\n",
       "      <td>female</td>\n",
       "      <td>35.0</td>\n",
       "      <td>1</td>\n",
       "      <td>0</td>\n",
       "      <td>113803</td>\n",
       "      <td>53.1000</td>\n",
       "      <td>C123</td>\n",
       "      <td>S</td>\n",
       "    </tr>\n",
       "    <tr>\n",
       "      <th>4</th>\n",
       "      <td>5</td>\n",
       "      <td>0</td>\n",
       "      <td>3</td>\n",
       "      <td>Allen, Mr. William Henry</td>\n",
       "      <td>male</td>\n",
       "      <td>35.0</td>\n",
       "      <td>0</td>\n",
       "      <td>0</td>\n",
       "      <td>373450</td>\n",
       "      <td>8.0500</td>\n",
       "      <td>NaN</td>\n",
       "      <td>S</td>\n",
       "    </tr>\n",
       "  </tbody>\n",
       "</table>\n",
       "</div>"
      ],
      "text/plain": [
       "   PassengerId  Survived  Pclass  \\\n",
       "0            1         0       3   \n",
       "1            2         1       1   \n",
       "2            3         1       3   \n",
       "3            4         1       1   \n",
       "4            5         0       3   \n",
       "\n",
       "                                                Name     Sex   Age  SibSp  \\\n",
       "0                            Braund, Mr. Owen Harris    male  22.0      1   \n",
       "1  Cumings, Mrs. John Bradley (Florence Briggs Th...  female  38.0      1   \n",
       "2                             Heikkinen, Miss. Laina  female  26.0      0   \n",
       "3       Futrelle, Mrs. Jacques Heath (Lily May Peel)  female  35.0      1   \n",
       "4                           Allen, Mr. William Henry    male  35.0      0   \n",
       "\n",
       "   Parch            Ticket     Fare Cabin Embarked  \n",
       "0      0         A/5 21171   7.2500   NaN        S  \n",
       "1      0          PC 17599  71.2833   C85        C  \n",
       "2      0  STON/O2. 3101282   7.9250   NaN        S  \n",
       "3      0            113803  53.1000  C123        S  \n",
       "4      0            373450   8.0500   NaN        S  "
      ]
     },
     "execution_count": 8,
     "metadata": {},
     "output_type": "execute_result"
    }
   ],
   "source": [
    "import numpy as np\n",
    "import pandas as pd\n",
    "import matplotlib.pyplot as plt\n",
    "from collections import Counter\n",
    "\n",
    "titanic=pd.read_csv(\"titanic-data.csv\")\n",
    "titanic.head()"
   ]
  },
  {
   "cell_type": "markdown",
   "metadata": {
    "collapsed": true
   },
   "source": [
    "### 2.2 Data Cleanup\n",
    "\n",
    "The data cleanup procedure consists of the follwing steps:\n",
    "1. Removal of unnecessary data\n",
    "2. Removal of duplicates\n",
    "3. Determine missing values in the data\n",
    "\n",
    "\n",
    "Based on the question I want to answer in the project some of the columns in the dataset will not be important in further \n",
    "examination, therefore they will be removed. These columns are:\n",
    "    \n",
    "* `Name`\n",
    "* `Ticket`\n",
    "* `Cabin`\n",
    "* `Embarked`\n",
    "* `sibsp`\n",
    "\n",
    "\n",
    "Following code lines remove the mentioned rows and show the first five rows of the dataframe to show that the unnecessary data was removed."
   ]
  },
  {
   "cell_type": "code",
   "execution_count": 3,
   "metadata": {
    "collapsed": false
   },
   "outputs": [
    {
     "data": {
      "text/html": [
       "<div>\n",
       "<table border=\"1\" class=\"dataframe\">\n",
       "  <thead>\n",
       "    <tr style=\"text-align: right;\">\n",
       "      <th></th>\n",
       "      <th>PassengerId</th>\n",
       "      <th>Survived</th>\n",
       "      <th>Pclass</th>\n",
       "      <th>Sex</th>\n",
       "      <th>Age</th>\n",
       "      <th>Parch</th>\n",
       "      <th>Fare</th>\n",
       "    </tr>\n",
       "  </thead>\n",
       "  <tbody>\n",
       "    <tr>\n",
       "      <th>0</th>\n",
       "      <td>1</td>\n",
       "      <td>0</td>\n",
       "      <td>3</td>\n",
       "      <td>male</td>\n",
       "      <td>22.0</td>\n",
       "      <td>0</td>\n",
       "      <td>7.2500</td>\n",
       "    </tr>\n",
       "    <tr>\n",
       "      <th>1</th>\n",
       "      <td>2</td>\n",
       "      <td>1</td>\n",
       "      <td>1</td>\n",
       "      <td>female</td>\n",
       "      <td>38.0</td>\n",
       "      <td>0</td>\n",
       "      <td>71.2833</td>\n",
       "    </tr>\n",
       "    <tr>\n",
       "      <th>2</th>\n",
       "      <td>3</td>\n",
       "      <td>1</td>\n",
       "      <td>3</td>\n",
       "      <td>female</td>\n",
       "      <td>26.0</td>\n",
       "      <td>0</td>\n",
       "      <td>7.9250</td>\n",
       "    </tr>\n",
       "    <tr>\n",
       "      <th>3</th>\n",
       "      <td>4</td>\n",
       "      <td>1</td>\n",
       "      <td>1</td>\n",
       "      <td>female</td>\n",
       "      <td>35.0</td>\n",
       "      <td>0</td>\n",
       "      <td>53.1000</td>\n",
       "    </tr>\n",
       "    <tr>\n",
       "      <th>4</th>\n",
       "      <td>5</td>\n",
       "      <td>0</td>\n",
       "      <td>3</td>\n",
       "      <td>male</td>\n",
       "      <td>35.0</td>\n",
       "      <td>0</td>\n",
       "      <td>8.0500</td>\n",
       "    </tr>\n",
       "  </tbody>\n",
       "</table>\n",
       "</div>"
      ],
      "text/plain": [
       "   PassengerId  Survived  Pclass     Sex   Age  Parch     Fare\n",
       "0            1         0       3    male  22.0      0   7.2500\n",
       "1            2         1       1  female  38.0      0  71.2833\n",
       "2            3         1       3  female  26.0      0   7.9250\n",
       "3            4         1       1  female  35.0      0  53.1000\n",
       "4            5         0       3    male  35.0      0   8.0500"
      ]
     },
     "execution_count": 3,
     "metadata": {},
     "output_type": "execute_result"
    }
   ],
   "source": [
    "# Create new dataset without unwanted columns\n",
    "titanic=titanic.drop(['Name','Ticket','Cabin','Embarked','SibSp'], axis=1)\n",
    "titanic.head()"
   ]
  },
  {
   "cell_type": "markdown",
   "metadata": {},
   "source": [
    "\n",
    "Here I want to identify duplicates in the data."
   ]
  },
  {
   "cell_type": "code",
   "execution_count": 4,
   "metadata": {
    "collapsed": false
   },
   "outputs": [
    {
     "name": "stdout",
     "output_type": "stream",
     "text": [
      "Number of duplicates: 0\n"
     ]
    }
   ],
   "source": [
    "# Identify if duplicates in the data do exists\n",
    "titanic_duplicates = titanic.duplicated()\n",
    "print('Number of duplicates: {}'.format(titanic_duplicates.sum()))"
   ]
  },
  {
   "cell_type": "markdown",
   "metadata": {},
   "source": [
    "In the dataset there are no data duplicates.\n",
    "\n",
    "\n",
    "### 2.3 Missing Values\n",
    "\n",
    "In this subsection I want to find out how many missing values there are in the dataframe."
   ]
  },
  {
   "cell_type": "code",
   "execution_count": 5,
   "metadata": {
    "collapsed": false
   },
   "outputs": [
    {
     "data": {
      "text/plain": [
       "PassengerId      0\n",
       "Survived         0\n",
       "Pclass           0\n",
       "Sex              0\n",
       "Age            177\n",
       "Parch            0\n",
       "Fare             0\n",
       "dtype: int64"
      ]
     },
     "execution_count": 5,
     "metadata": {},
     "output_type": "execute_result"
    }
   ],
   "source": [
    "# Calculating the number of missing values\n",
    "titanic.isnull().sum()"
   ]
  },
  {
   "cell_type": "code",
   "execution_count": 6,
   "metadata": {
    "collapsed": false
   },
   "outputs": [
    {
     "name": "stdout",
     "output_type": "stream",
     "text": [
      "Number of male passengers with missing age: 124\n",
      "Number of female passengers with missing age: 53\n"
     ]
    }
   ],
   "source": [
    "# Determine the number of males and females with missing age in the dataset\n",
    "missing_age_male = titanic[pd.isnull(titanic['Age'])]['Sex'] == 'male'\n",
    "missing_age_female = titanic[pd.isnull(titanic['Age'])]['Sex'] == 'female'\n",
    "\n",
    "print('Number of male passengers with missing age: {}'.format(missing_age_male.sum()))\n",
    "print('Number of female passengers with missing age: {}'.format(missing_age_female.sum()))"
   ]
  },
  {
   "cell_type": "markdown",
   "metadata": {},
   "source": [
    "We can see that roughly 20% of the passengers in the dataset do not have a stated age, especialy the male passengers. This fact should be considered on examination of the question whether the age considering the gender determine the chances of survival.\n",
    "\n",
    "\n",
    "\n",
    "\n",
    "## 3. Data Analysis\n"
   ]
  },
  {
   "cell_type": "markdown",
   "metadata": {},
   "source": [
    "At first I want to gain a basic overview over the age distribution, the count of female and male as well as the count of survived and dead passengers."
   ]
  },
  {
   "cell_type": "code",
   "execution_count": 34,
   "metadata": {
    "collapsed": false
   },
   "outputs": [
    {
     "data": {
      "image/png": "[encoded data removed]",
      "text/plain": [
       "<matplotlib.figure.Figure at 0xa504748>"
      ]
     },
     "metadata": {},
     "output_type": "display_data"
    }
   ],
   "source": [
    "fig, axes = plt.subplots(nrows=1, ncols=3, figsize=(17, 5)) \n",
    "\n",
    "#Age distribution\n",
    "ages=titanic[\"Age\"].dropna()\n",
    "#plt.figure(figsize=(7,7))\n",
    "axes[0].hist(ages, bins=80, color='#377eb8',edgecolor = \"Black\")\n",
    "axes[0].set_xlabel(\"Age/Years\")\n",
    "axes[0].set_ylabel('Count')\n",
    "axes[0].set_title('Age distribution of the passengers')\n",
    "#plt.show()\n",
    "\n",
    "\n",
    "# Count of male and female passengers\n",
    "gender=titanic['Sex']\n",
    "counts = Counter(gender)\n",
    "common = counts.most_common()\n",
    "gender = [item[0] for item in common]\n",
    "count = [item[1] for item in common]\n",
    "\n",
    "axes[1].bar(np.arange(2), count, tick_label=gender, width=0.4, color='#377eb8',edgecolor = \"Black\")\n",
    "axes[1].set_ylabel('Count')\n",
    "axes[1].set_title('Number of female and male passengers.')\n",
    "\n",
    "\n",
    "# Count of dead and survived passengers\n",
    "survival=titanic['Survived']\n",
    "counts=Counter(survival)\n",
    "common = counts.most_common()\n",
    "label=[\"Dead\", \"Survived\"]\n",
    "count=[item[1] for item in common]\n",
    "axes[2].bar(np.arange(2), count, tick_label=label, width=0.4, color='#377eb8',edgecolor = \"Black\")\n",
    "axes[2].set_ylabel('Count')\n",
    "axes[2].set_title('Number of survived and dead passengers.')\n",
    "plt.show()"
   ]
  },
  {
   "cell_type": "markdown",
   "metadata": {},
   "source": [
    "The age distribution can be approximated as a gaussian distribution with a mean around 25-30 years.\n",
    "In the second plot can be noticed that there were almost twice as much male as female passengers. The third plot shows that there were mored deads than survivals.\n"
   ]
  },
  {
   "cell_type": "markdown",
   "metadata": {},
   "source": [
    "### 3.1 Did the gender determine the chances of survival?"
   ]
  },
  {
   "cell_type": "code",
   "execution_count": 6,
   "metadata": {
    "collapsed": false
   },
   "outputs": [
    {
     "data": {
      "image/png": "[encoded data removed]",
      "text/plain": [
       "<matplotlib.figure.Figure at 0x9a2b278>"
      ]
     },
     "metadata": {},
     "output_type": "display_data"
    },
    {
     "data": {
      "text/plain": [
       "<matplotlib.figure.Figure at 0x4d854e0>"
      ]
     },
     "metadata": {},
     "output_type": "display_data"
    }
   ],
   "source": [
    "# Group thy PassengerId by Gender und Survival\n",
    "g=titanic.groupby([\"Survived\",\"Sex\"])[\"PassengerId\"]\n",
    "\n",
    "# Count how many passengers died or survived dependent on the gender\n",
    "survived_men=g.get_group((1,\"male\")).count()\n",
    "survived_women=g.get_group((1,\"female\")).count()\n",
    "dead_men=g.get_group((0,\"male\")).count()\n",
    "dead_women=g.get_group((0,\"female\")).count()\n",
    "\n",
    "# Group the PassengerId by gender and count the Id's dependent on the gender to find out the total number of women and men\n",
    "g=titanic.groupby(\"Sex\")[\"PassengerId\"]\n",
    "men_sum=float(g.get_group((\"male\")).count())\n",
    "women_sum=float(g.get_group((\"female\")).count())\n",
    "\n",
    "#Normalization of dead and survived passengers depentend on the gender\n",
    "p2=survived=[survived_men/men_sum, survived_women/women_sum] \n",
    "p1=dead=[dead_men/men_sum, dead_women/women_sum]\n",
    "\n",
    "# Plot the survival by gender ration \n",
    "plt.figure(figsize=(7,7))\n",
    "N=2\n",
    "ind = np.arange(N)               \n",
    "width = 0.35                      \n",
    "bar1 = plt.bar(ind, survived, width,color='#377eb8', edgecolor = \"Black\")\n",
    "bar2 = plt.bar(ind+width, dead, width,color='#e41a1c', edgecolor = \"Black\")\n",
    "plt.ylabel('Ratio of passengers')\n",
    "plt.title('Survival by Gender')\n",
    "plt.xticks(ind+width/2, ['Men', \"Female\"])\n",
    "plt.legend((bar2, bar1), ('Dead', 'Survived'))\n",
    "plt.figure(num=None, figsize=(1, 1), dpi=80, facecolor='w', edgecolor='k')\n",
    "plt.show()\n"
   ]
  },
  {
   "cell_type": "markdown",
   "metadata": {},
   "source": [
    "According to the plot it is obvious that male passengers had a significant lower chance of survival in comparison to female passengers. "
   ]
  },
  {
   "cell_type": "markdown",
   "metadata": {},
   "source": [
    "### 3.2 Did the social-economic status determine the chances of survival?"
   ]
  },
  {
   "cell_type": "code",
   "execution_count": 7,
   "metadata": {
    "collapsed": false
   },
   "outputs": [
    {
     "data": {
      "image/png": "[encoded data removed]",
      "text/plain": [
       "<matplotlib.figure.Figure at 0x9a5d9b0>"
      ]
     },
     "metadata": {},
     "output_type": "display_data"
    }
   ],
   "source": [
    "################################ Survival regarding the fare ##########################\n",
    "# Create a dataframe of all fares\n",
    "fares_df=titanic[[\"Fare\", \"Survived\"]]\n",
    "fares=titanic[\"Fare\"]\n",
    "\n",
    "# Create 20 fare ranges from 0 $ - 300 $ and count how many fares from fares_df belong to each range\n",
    "num_bins=20\n",
    "bar_width=300/float(num_bins)\n",
    "fare_ranges_all=[]\n",
    "for i in np.arange(0,num_bins,1):\n",
    "    fare_ranges_all.append(len([x for x in fares if i*bar_width <= x < (i+1)*bar_width]))\n",
    "\n",
    "# Create a dataframe with fares of passengers who survived\n",
    "survived_fares=fares_df.ix[(fares_df[\"Survived\"]==1)][\"Fare\"]\n",
    "\n",
    "# Determine how many fares of passengers who survived belong in each of the 20 ranges \n",
    "fare_ranges_survived=[]\n",
    "for i in np.arange(0,num_bins,1):\n",
    "    fare_ranges_survived.append(len([x for x in survived_fares if i*bar_width <= x < (i+1)*bar_width]))\n",
    "\n",
    "# Handle the case in which a fare range does not contain any counts (to avoid devide by null error during normalization)\n",
    "for n,i in enumerate(fare_ranges_all):\n",
    "    if i==0:\n",
    "      fare_ranges_all[n]=1\n",
    " \n",
    " \n",
    "################################ Survival regarding the class ##########################\n",
    " \n",
    "# Get the Groupby object \n",
    "g=titanic.groupby([\"Survived\",\"Pclass\"])\n",
    "\n",
    "# Count the passengers from each class who not have survived\n",
    "dead_class_1=g.get_group((0,1))[\"PassengerId\"].count()\n",
    "dead_class_2=g.get_group((0,2))[\"PassengerId\"].count()\n",
    "dead_class_3=g.get_group((0,3))[\"PassengerId\"].count()\n",
    "\n",
    "# Count the passengers from each class who  have survived\n",
    "survived_class_1=g.get_group((1,1))[\"PassengerId\"].count()\n",
    "survived_class_2=g.get_group((1,2))[\"PassengerId\"].count()\n",
    "survived_class_3=g.get_group((1,3))[\"PassengerId\"].count()\n",
    "\n",
    "# Get the Groupby object\n",
    "g=titanic.groupby([\"Pclass\"])\n",
    "# Count the passengers in each class\n",
    "passengers_class1=float(g.get_group((1))[\"PassengerId\"].count())\n",
    "passengers_class2=float(g.get_group((2))[\"PassengerId\"].count())\n",
    "passengers_class3=float(g.get_group((3))[\"PassengerId\"].count())\n",
    "\n",
    "\n",
    "\n",
    "\n",
    "\n",
    "\n",
    "# Plot the fare-survival relation\n",
    "\n",
    "fig, axes = plt.subplots(nrows=1, ncols=2, figsize=(15, 5))  \n",
    "fare_ranges_all=np.array(fare_ranges_all).astype(float)\n",
    "\n",
    "#Normalize the number of fares in each range\n",
    "normed_survived_fares=np.array(fare_ranges_survived)/fare_ranges_all\n",
    "axes[0].bar(np.arange(0, 300,bar_width)+bar_width/2.0,normed_survived_fares,width=bar_width, align=\"center\", edgecolor = \"Black\")\n",
    "axes[0].set_title(\"Survival by Fare\")\n",
    "axes[0].set_xlabel(\"Fare price / $\")\n",
    "axes[0].set_ylabel(\"Ratio of passengers\")\n",
    "\n",
    "\n",
    "# Plot the class-survival relation\n",
    "y1, y2, y3=dead_class_1/passengers_class1, dead_class_2/passengers_class2, dead_class_3/passengers_class3\n",
    "z1, z2, z3=survived_class_1/passengers_class1, survived_class_2/passengers_class2, survived_class_3/passengers_class3\n",
    "dead=[y1, y2, y3]\n",
    "survived=[z1, z2, z3]\n",
    "width=0.25\n",
    "ind = np.arange(3) \n",
    "bar1 = axes[1].bar(ind, survived, width,color='#377eb8', edgecolor = \"Black\")\n",
    "bar2 = axes[1].bar(ind+width, dead, width,color='#e41a1c', edgecolor = \"Black\")\n",
    "axes[1].legend((bar2, bar1), ('Dead', 'Survived'))\n",
    "axes[1].set_title(\"Survival by Class\")\n",
    "axes[1].set_xlabel(\"Class\")\n",
    "axes[1].set_ylabel(\"Ratio of passengers\")\n",
    "axes[1].set_xticks(ind+width/2)\n",
    "axes[1].set_xticklabels([\"1\", \"2\", \"3\"])\n",
    "plt.show()\n"
   ]
  },
  {
   "cell_type": "markdown",
   "metadata": {},
   "source": [
    "The left plot shows the tendency that a lower fare price decreases the ratio of survival. In the right plot a steady declination of the survival ration with lower passenger class can be observed. Im summary the social-economic status has indeed an impact on the chances of survival. Passengers with higher social-economic status did have a higher chances to survive."
   ]
  },
  {
   "cell_type": "markdown",
   "metadata": {},
   "source": [
    "### 3.3 Did age, regardless of gender, determine your chances of survival?"
   ]
  },
  {
   "cell_type": "code",
   "execution_count": 8,
   "metadata": {
    "collapsed": false
   },
   "outputs": [
    {
     "data": {
      "image/png": "[encoded data removed]",
      "text/plain": [
       "<matplotlib.figure.Figure at 0x4d85550>"
      ]
     },
     "metadata": {},
     "output_type": "display_data"
    }
   ],
   "source": [
    "# Count the PassengerId grouped by the age and save it as dataframe\n",
    "df=pd.DataFrame({'count' : titanic.groupby(\"Age\")[\"PassengerId\"].count()}).reset_index()\n",
    "\n",
    "# Make a dictionary out of df, where age is the key and count is the value\n",
    "passengers_by_age = dict(zip(df[\"Age\"], df[\"count\"]))\n",
    "\n",
    "# Count the PassengerId that is grouped by survival and gernder and save it in a dataframe\n",
    "df=pd.DataFrame({'count' : titanic.groupby( [\"Survived\",\"Age\"])[\"PassengerId\"].count()}).reset_index()\n",
    "# New dataframe where all passengers survived\n",
    "df2 = df.ix[(df['Survived'] == 1)]\n",
    "\n",
    "# Make a dictionary where keys are the passenger age group and the values the normalized count of passengers in this age group\n",
    "age_survived_norm={}\n",
    "for index, row in df2.iterrows():\n",
    "        age_survived_norm.update(({row[\"Age\"]:row[\"count\"]/float(passengers_by_age[row[\"Age\"]])}))\n",
    "    \n",
    "# Plot the results\n",
    "plt.figure(figsize=(13,7))\n",
    "plt.bar(list(age_survived_norm.keys()), list(age_survived_norm.values()), align='center', color=\"#377eb8\")\n",
    "plt.xlabel('Age / years')\n",
    "plt.ylabel('Ratio of survived passengers')\n",
    "plt.title('Survival of passengers by age')\n",
    "plt.show()\n"
   ]
  },
  {
   "cell_type": "markdown",
   "metadata": {},
   "source": [
    "It can be observed that younger and older passengers regardless of their gender had an higher survival ratio than middle aged passengers."
   ]
  },
  {
   "cell_type": "markdown",
   "metadata": {},
   "source": [
    "\n",
    "\n",
    "\n",
    "### 3.4 Did the age considering the gender determine the chances of survival?"
   ]
  },
  {
   "cell_type": "code",
   "execution_count": 9,
   "metadata": {
    "collapsed": false
   },
   "outputs": [
    {
     "data": {
      "image/png": "[encoded data removed]",
      "text/plain": [
       "<matplotlib.figure.Figure at 0xa0b8ba8>"
      ]
     },
     "metadata": {},
     "output_type": "display_data"
    }
   ],
   "source": [
    "# Count the PassengerId grouped by age and gender and save ad dataframe\n",
    "df=pd.DataFrame({'count' : titanic.groupby([\"Age\", \"Sex\"])[\"PassengerId\"].count()}).reset_index()\n",
    "\n",
    "# Take from df values which belong to men and save as new dataframe\n",
    "df_male=df.ix[(df['Sex']=='male')]\n",
    "# Take from df values which belong to women and save as new dataframe\n",
    "df_women=df.ix[(df['Sex']=='female')]\n",
    "\n",
    "# Create dictionary with age of men as the key and the count of men in this age group as value\n",
    "male_by_age=dict(zip(df_male[\"Age\"], df_male[\"count\"]))\n",
    "# Create dictionary with age of women as the key and the count of women in this age group as value\n",
    "female_by_age=dict(zip(df_women[\"Age\"], df_women[\"count\"]))\n",
    "\n",
    "#Count the PassengerId grouped by survival, age and gender and save as dataframe\n",
    "df=pd.DataFrame({'count' : titanic.groupby( [\"Survived\",\"Age\", \"Sex\"])[\"PassengerId\"].count()}).reset_index()\n",
    "\n",
    "#Create two dictionaries in which the keys are the age of men/women and the normalized count of men/women in this age group as value\n",
    "male_by_age_survived={}\n",
    "female_by_age_survived={}\n",
    "for index, row in df.iterrows():\n",
    "    if row[\"Survived\"]==1:\n",
    "        if row[\"Sex\"]==\"male\":\n",
    "            male_by_age_survived.update(({row[\"Age\"]:row[\"count\"]/float(male_by_age[row[\"Age\"]])}))\n",
    "        else:\n",
    "             female_by_age_survived.update(({row[\"Age\"]:row[\"count\"]/float(female_by_age[row[\"Age\"]])}))\n",
    "                \n",
    "# Plot the results\n",
    "fig, axes = plt.subplots(nrows=1, ncols=2, figsize=(20, 5))\n",
    "axes[0].bar(list(male_by_age_survived.keys()), list(male_by_age_survived.values()), align='center')\n",
    "axes[0].set_xlabel('Age / years')\n",
    "axes[0].set_ylabel('Ration of survived men')\n",
    "axes[0].set_title('Survival of male passengers by age')\n",
    "\n",
    "axes[1].bar(list(female_by_age_survived.keys()), list(female_by_age_survived.values()), align='center')\n",
    "axes[1].set_xlabel('Age / years')\n",
    "axes[1].set_ylabel('Ration of survived women')\n",
    "axes[1].set_title('Survival of female passengers by age')\n",
    "plt.show()"
   ]
  },
  {
   "cell_type": "markdown",
   "metadata": {},
   "source": [
    "If we take the gender into account it can be seen that male passengers in their middle ages had a much lower ratio of survival than women. Male children had however still big chances for survival.\n",
    "In oppositve female passengers had throughout all age groupes higher survival ratio than male passengers."
   ]
  },
  {
   "cell_type": "markdown",
   "metadata": {},
   "source": [
    "### 3.5 Did the number of children aboard per passenger determine the chances of survival?"
   ]
  },
  {
   "cell_type": "code",
   "execution_count": 10,
   "metadata": {
    "collapsed": false
   },
   "outputs": [
    {
     "data": {
      "image/png": "[encoded data removed]",
      "text/plain": [
       "<matplotlib.figure.Figure at 0x9c15e48>"
      ]
     },
     "metadata": {},
     "output_type": "display_data"
    }
   ],
   "source": [
    "# How many passengers do have how many children? Create new dataframe and transform it's columns to a dictionary\n",
    "parch_count=pd.DataFrame({'count' : titanic.groupby(\"Parch\")[\"PassengerId\"].count()}).reset_index()\n",
    "parch_count=dict(zip(parch_count[\"Parch\"],parch_count[\"count\"]))\n",
    "\n",
    "# Same dataframe as above but also grouped by survival\n",
    "df=pd.DataFrame({'count' : titanic.groupby([\"Survived\",\"Parch\"])[\"PassengerId\"].count()}).reset_index()\n",
    "\n",
    "# Calculate the survival ratio per children aboard\n",
    "surival_ratio={}\n",
    "for index, row in df.iterrows():\n",
    "    if not row[\"Survived\"]:\n",
    "        surival_ratio[row[\"Parch\"]]=1-(row[\"count\"]/float(parch_count[row[\"Parch\"]]))\n",
    "          \n",
    "    \n",
    "plt.figure(figsize=(10,6))      \n",
    "plt.bar(list(surival_ratio.keys()),list(surival_ratio.values()),color='#377eb8', edgecolor = \"Black\")\n",
    "plt.title(\"Survival ratio per children aboard\")\n",
    "plt.xlabel(\"Number of children per passenger\")\n",
    "plt.ylabel(\"Ratio of survival\")\n",
    "plt.show()\n"
   ]
  },
  {
   "cell_type": "markdown",
   "metadata": {},
   "source": [
    "The plot shows the tendency that higher number of children increased the chances of parents`s survival. The reason for this may be the fact that parents who had more children had higher chances to get a seat in the saving boats."
   ]
  },
  {
   "cell_type": "markdown",
   "metadata": {
    "collapsed": true
   },
   "source": [
    "## 4. Conclusion"
   ]
  },
  {
   "cell_type": "markdown",
   "metadata": {},
   "source": [
    "After the examination of the data I came to the conclustion that the gender, age and social economic status were factors that determined the survival of the passengers the most.\n",
    "\n",
    "Female passengers had much higher survival ratio than men. Women usually survived throughout all age groups more often than men. Only younger and older men had significantly higher chances to survive. Especially middle aged men were the most common group of passengers who died. This observation confirms the usual procedure that women, children and the elderly receive access to lifeboats first. \n",
    "Besides the age and gender the wealth determined the chances of survival. More wealthy passengers had survived more often than poorer passengers. It seems that passengers with higher social economic status have been prefered during the evacuation. Also the higher number of children per passenger was a small factor that increased the chances for survival. \n",
    "\n",
    "However these results should be viewed critically. The used dataset contains only 891 out of 2224 [1] passengers that were aboard the titanic. So only 40 % of the passengers were considered during the data analysis. \n",
    "An other problem was the fact that almost 20 % of the passengers in the used dataset did not have an entry for their age. I had to neglect those missing values. It means that I used roughly only 32 % of all titanic passengers with an age entry to determine the effect of age on the survival for all passengers. A possible solution for dealing with the missing ages is substituting those with the mean of all available ages.\n",
    "The analysis cound be enriched by using the whole dataset that contain the information for all of 2224 passengers.\n",
    "\n",
    "For further analysis it would be interesting to implement a machine learning model that learns to predict whether a passenger might have survived based on the passenger features. An example for such an model is a Naive Bayes classifier or Support Vector Machine. \n",
    "\n",
    "\n",
    "\n",
    "\n",
    "\n",
    "\n",
    "\n",
    "\n",
    "\n",
    "\n"
   ]
  },
  {
   "cell_type": "markdown",
   "metadata": {
    "collapsed": true
   },
   "source": [
    "## 5. References\n",
    "\n",
    "[1] https://www.kaggle.com/c/titanic#description"
   ]
  },
  {
   "cell_type": "code",
   "execution_count": null,
   "metadata": {
    "collapsed": true
   },
   "outputs": [],
   "source": []
  }
 ],
 "metadata": {
  "kernelspec": {
   "display_name": "Python 3",
   "language": "python",
   "name": "python3"
  },
  "language_info": {
   "codemirror_mode": {
    "name": "ipython",
    "version": 3
   },
   "file_extension": ".py",
   "mimetype": "text/x-python",
   "name": "python",
   "nbconvert_exporter": "python",
   "pygments_lexer": "ipython3",
   "version": "3.6.0"
  }
 },
 "nbformat": 4,
 "nbformat_minor": 2
}
